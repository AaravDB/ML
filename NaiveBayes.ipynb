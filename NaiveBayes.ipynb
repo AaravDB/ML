{
  "nbformat": 4,
  "nbformat_minor": 0,
  "metadata": {
    "colab": {
      "provenance": [],
      "gpuType": "T4",
      "authorship_tag": "ABX9TyMaox94xoDiRWEG703w5v9p",
      "include_colab_link": true
    },
    "kernelspec": {
      "name": "python3",
      "display_name": "Python 3"
    },
    "language_info": {
      "name": "python"
    }
  },
  "cells": [
    {
      "cell_type": "markdown",
      "metadata": {
        "id": "view-in-github",
        "colab_type": "text"
      },
      "source": [
        "<a href=\"https://colab.research.google.com/github/AaravDB/ML/blob/testing/NaiveBayes.ipynb\" target=\"_parent\"><img src=\"https://colab.research.google.com/assets/colab-badge.svg\" alt=\"Open In Colab\"/></a>"
      ]
    },
    {
      "cell_type": "markdown",
      "source": [
        "Task-0"
      ],
      "metadata": {
        "id": "brl9Ck9jI_D0"
      }
    },
    {
      "cell_type": "code",
      "execution_count": 1,
      "metadata": {
        "id": "ZOCQXRqHI8f6"
      },
      "outputs": [],
      "source": [
        "from sklearn.model_selection import train_test_split\n",
        "import pandas as pd\n",
        "import numpy as np"
      ]
    },
    {
      "cell_type": "code",
      "source": [
        "def dataset_splitter(filename,label_column_name):\n",
        "  dat=pd.read_csv(filename)\n",
        "  y=np.array(dat[label_column_name])\n",
        "  tempdat=dat.drop(label_column_name,axis=1)\n",
        "  X=np.array(tempdat)\n",
        "  return train_test_split(X,y,train_size=12/14,random_state=42)\n",
        "X_t,X_te,y_t,y_te=dataset_splitter('Data.csv','Play')"
      ],
      "metadata": {
        "id": "veEavjPhKaTQ"
      },
      "execution_count": 3,
      "outputs": []
    },
    {
      "cell_type": "code",
      "source": [
        "print(y_t)"
      ],
      "metadata": {
        "colab": {
          "base_uri": "https://localhost:8080/"
        },
        "id": "AOvRDzAwMCiV",
        "outputId": "5374556e-d83a-41c0-86d6-15ea14be43b9"
      },
      "execution_count": 4,
      "outputs": [
        {
          "output_type": "stream",
          "name": "stdout",
          "text": [
            "['no' 'yes' 'no' 'yes' 'yes' 'no' 'no' 'yes' 'no' 'yes' 'yes' 'yes']\n"
          ]
        }
      ]
    },
    {
      "cell_type": "code",
      "source": [
        "print(X_t)"
      ],
      "metadata": {
        "colab": {
          "base_uri": "https://localhost:8080/"
        },
        "id": "pSJoa2aWu-d8",
        "outputId": "fd3fe68a-0361-41bd-9387-ea8fca9a5f1f"
      },
      "execution_count": 5,
      "outputs": [
        {
          "output_type": "stream",
          "name": "stdout",
          "text": [
            "[['Rainy' 'Hot' 'High' 'f']\n",
            " ['Overcast' 'Hot' 'Normal' 'f']\n",
            " ['Sunny' 'Cool' 'Normal' 't']\n",
            " ['Rainy' 'Cool' 'Normal' 'f']\n",
            " ['Overcast' 'Hot' 'High' 'f']\n",
            " ['Rainy' 'Hot' 'High' 't']\n",
            " ['Sunny' 'Mild' 'High' 't']\n",
            " ['Sunny' 'Cool' 'Normal' 'f']\n",
            " ['Rainy' 'Mild' 'High' 'f']\n",
            " ['Rainy' 'Mild' 'Normal' 't']\n",
            " ['Sunny' 'Mild' 'High' 'f']\n",
            " ['Overcast' 'Cool' 'Normal' 't']]\n"
          ]
        }
      ]
    },
    {
      "cell_type": "markdown",
      "source": [
        "Task-1"
      ],
      "metadata": {
        "id": "9b1dy2pJLTzi"
      }
    },
    {
      "cell_type": "code",
      "source": [
        "def prior_calculator(labels):\n",
        "  prob=np.zeros(len(np.unique(labels)))\n",
        "  for labl in labels:\n",
        "    if labl=='no':\n",
        "      prob[0]+=1\n",
        "    else:\n",
        "      prob[1]+=1\n",
        "  prob=prob/np.sum(prob)\n",
        "  return prob"
      ],
      "metadata": {
        "id": "yOuIPJi3LAwi"
      },
      "execution_count": 6,
      "outputs": []
    },
    {
      "cell_type": "code",
      "source": [
        "prior=prior_calculator(y_t)\n",
        "print(prior)"
      ],
      "metadata": {
        "colab": {
          "base_uri": "https://localhost:8080/"
        },
        "id": "xYt9kA8pY9Ds",
        "outputId": "a954e6f2-05c7-4226-f8a3-90ec7975ee64"
      },
      "execution_count": 7,
      "outputs": [
        {
          "output_type": "stream",
          "name": "stdout",
          "text": [
            "[0.41666667 0.58333333]\n"
          ]
        }
      ]
    },
    {
      "cell_type": "markdown",
      "source": [
        "Task-2"
      ],
      "metadata": {
        "id": "fulI-teRMhZI"
      }
    },
    {
      "cell_type": "code",
      "source": [
        "def likelihood_calculator(data,labels):\n",
        "  #in the end of the likelihood calculation we need p(x1,x2...xn|y)=p(x1|y)*p(x2|y)*...*p(xn|y) for each label thus we input label\n",
        "  #p(x1|y)=[p(x11|y),p(x12|y)...]\n",
        "  m,n=data.shape\n",
        "  unique_labels=np.unique(labels)\n",
        "  likelihoods={}\n",
        "  for label in unique_labels:\n",
        "    label_likelihoods={}\n",
        "    for i in range(n):\n",
        "        #iterating over all features\n",
        "      feat_vals=data[:,i]\n",
        "      unique_feat_vals=np.unique(feat_vals)\n",
        "      feat_likelihood={}\n",
        "      for unique_feat_value in unique_feat_vals:\n",
        "        label_ct=0\n",
        "        ct_unique_value=0\n",
        "        for j in range(m):\n",
        "          #iterating over each sample's feature value\n",
        "          if  labels[j]==label:\n",
        "            label_ct+=1\n",
        "            if feat_vals[j]==unique_feat_value:\n",
        "              ct_unique_value+=1\n",
        "        if label_ct!=0:\n",
        "          feat_likelihood[unique_feat_value]=ct_unique_value/label_ct\n",
        "        else:\n",
        "          feat_likelihood[unique_feat_value]=0\n",
        "      label_likelihoods[i]=feat_likelihood\n",
        "    likelihoods[label]=label_likelihoods\n",
        "  return likelihoods\n",
        "\n",
        "likelihoods=likelihood_calculator(X_t,y_t)\n",
        "print(likelihoods)"
      ],
      "metadata": {
        "colab": {
          "base_uri": "https://localhost:8080/"
        },
        "id": "bdGBNdf1Mg8l",
        "outputId": "9f78aa2c-644e-403b-9189-bade2ce2bdaa"
      },
      "execution_count": 8,
      "outputs": [
        {
          "output_type": "stream",
          "name": "stdout",
          "text": [
            "{'no': {0: {'Overcast': 0.0, 'Rainy': 0.6, 'Sunny': 0.4}, 1: {'Cool': 0.2, 'Hot': 0.4, 'Mild': 0.4}, 2: {'High': 0.8, 'Normal': 0.2}, 3: {'f': 0.4, 't': 0.6}}, 'yes': {0: {'Overcast': 0.42857142857142855, 'Rainy': 0.2857142857142857, 'Sunny': 0.2857142857142857}, 1: {'Cool': 0.42857142857142855, 'Hot': 0.2857142857142857, 'Mild': 0.2857142857142857}, 2: {'High': 0.2857142857142857, 'Normal': 0.7142857142857143}, 3: {'f': 0.7142857142857143, 't': 0.2857142857142857}}}\n"
          ]
        }
      ]
    },
    {
      "cell_type": "code",
      "source": [
        "\n",
        "def predict(samples,train_labels):\n",
        "  unique_labels=np.unique(train_labels)\n",
        "  likelihoods=likelihood_calculator(samples,train_labels)\n",
        "  m,n=samples.shape\n",
        "  predictions=[]\n",
        "  for sample in samples:\n",
        "    best_label=train_labels[m-1]#anything\n",
        "    max_post=-15999\n",
        "    prir=prior_calculator(train_labels)\n",
        "    for i in range(len(unique_labels)):\n",
        "      curr_post=np.log(prir[i])\n",
        "      label=unique_labels[i]\n",
        "      for j in range(n):\n",
        "        valu=likelihoods[label][j][sample[j]]\n",
        "        if valu!=0:\n",
        "          curr_post+=np.log(valu)\n",
        "        else:\n",
        "          curr_post+=-100\n",
        "      if curr_post>max_post:\n",
        "        max_post=curr_post\n",
        "        best_label=label\n",
        "    predictions.append(best_label)\n",
        "  predictions=np.array(predictions)\n",
        "  return predictions\n"
      ],
      "metadata": {
        "id": "AlyL7oKhMe3r"
      },
      "execution_count": 9,
      "outputs": []
    },
    {
      "cell_type": "code",
      "source": [
        "test_predictions=predict(X_te,y_t)\n",
        "train_predictions=predict(X_t,y_t)"
      ],
      "metadata": {
        "id": "C_3f0lc8JPMz"
      },
      "execution_count": 10,
      "outputs": []
    },
    {
      "cell_type": "code",
      "source": [
        "def accuracy_finder(true_labls,predicted_labls):\n",
        "  acc_ct=0\n",
        "  for i in range(len(true_labls)):\n",
        "    if predicted_labls[i]==true_labls[i]:\n",
        "      acc_ct+=1\n",
        "  return acc_ct/len(true_labls)\n"
      ],
      "metadata": {
        "id": "qDjr6h01It9n"
      },
      "execution_count": 11,
      "outputs": []
    },
    {
      "cell_type": "code",
      "source": [
        "train_acc=accuracy_finder(y_t,train_predictions)\n",
        "test_acc=accuracy_finder(y_te,test_predictions)"
      ],
      "metadata": {
        "id": "iT821MlnL14N"
      },
      "execution_count": 12,
      "outputs": []
    },
    {
      "cell_type": "code",
      "source": [
        "print(train_acc)\n",
        "print(test_acc)"
      ],
      "metadata": {
        "colab": {
          "base_uri": "https://localhost:8080/"
        },
        "id": "1z-4AgkmMGp_",
        "outputId": "f217e357-c422-46a3-d1fd-152753db0d85"
      },
      "execution_count": 13,
      "outputs": [
        {
          "output_type": "stream",
          "name": "stdout",
          "text": [
            "0.75\n",
            "0.5\n"
          ]
        }
      ]
    },
    {
      "cell_type": "code",
      "source": [],
      "metadata": {
        "id": "GWrXbclJCkBt"
      },
      "execution_count": null,
      "outputs": []
    }
  ]
}