{
  "nbformat": 4,
  "nbformat_minor": 0,
  "metadata": {
    "colab": {
      "provenance": [],
      "authorship_tag": "ABX9TyNET28+eBMfNXMM7TfZP3mG",
      "include_colab_link": true
    },
    "kernelspec": {
      "name": "python3",
      "display_name": "Python 3"
    },
    "language_info": {
      "name": "python"
    }
  },
  "cells": [
    {
      "cell_type": "markdown",
      "metadata": {
        "id": "view-in-github",
        "colab_type": "text"
      },
      "source": [
        "<a href=\"https://colab.research.google.com/github/AaravDB/ML/blob/testing/SVMlinear.ipynb\" target=\"_parent\"><img src=\"https://colab.research.google.com/assets/colab-badge.svg\" alt=\"Open In Colab\"/></a>"
      ]
    },
    {
      "cell_type": "code",
      "source": [
        "import pandas as pd\n",
        "import numpy as np\n",
        "from sklearn import datasets\n",
        "iris=datasets.load_iris(as_frame=True)\n",
        "df = iris.frame\n",
        "#removing features which are not required by selecting required features and target\n",
        "df = df[['petal length (cm)', 'petal width (cm)', 'target']]\n",
        "\n",
        "df= df[df['target'].isin([0, 1])]\n",
        "df= df.reset_index(drop=True)\n",
        "print(df.head())\n",
        "print(df.shape)\n",
        "from sklearn.model_selection import train_test_split\n",
        "\n",
        "X=df.drop('target',axis=1)\n",
        "X=X.to_numpy()\n",
        "print(X[5])\n",
        "y=df['target']\n",
        "y=y.to_numpy()\n",
        "y[y==0]=-1\n",
        "X_t,X_te,y_t,y_te=train_test_split(X,y,train_size=0.8,random_state=42)\n",
        "print(X_t.shape)\n",
        "print(type(y_t))\n",
        "from sklearn.preprocessing import StandardScaler\n",
        "scaler=StandardScaler()\n",
        "X_t=scaler.fit_transform(X_t)\n",
        "print(X_t[5])\n",
        "X_t=np.hstack([np.ones((X_t.shape[0],1)),X_t])\n",
        "print(X_t.shape)\n",
        "#svm algorithm\n",
        "#some iterations\n",
        "#initialize weight as dim of sample +1?append a column of ones to X_t,also to X_te\n",
        "#go over each sample in X_t:,check y(w.x_t)>=1:\n",
        "#if not greater than 1,update weight with something!\n",
        "def learn(samples,labels):\n",
        "  print(samples[0])\n",
        "  its=1000\n",
        "  lamda=0.01\n",
        "  lr=0.01\n",
        "  weights=np.random.random(samples.shape[1])\n",
        "  print(weights)\n",
        "  m,n=samples.shape\n",
        "  for _ in range(its):\n",
        "    for i  in range(m):\n",
        "      y=labels[i]\n",
        "      x=samples[i]\n",
        "      if y*(np.dot(weights,x))<1:\n",
        "        weights=weights -lr*(lamda*weights-y*x)\n",
        "      else:\n",
        "        weights=weights-lr*lamda*weights\n",
        "  return weights\n",
        "\n",
        "\n",
        "\n",
        "def prediction(samples,wt):\n",
        "  predictions=[]\n",
        "  for sample in samples:\n",
        "    predict=np.sign(np.dot(wt,sample))\n",
        "    predictions.append(predict)\n",
        "  predictions=np.array(predictions,dtype=np.int64)\n",
        "  return predictions\n",
        "\n",
        "def accuracy_finder(true_labls,predicted_labls):\n",
        "  acc_ct=0\n",
        "  ct=0\n",
        "  for i in range(len(true_labls)):\n",
        "    ct+=1\n",
        "    if predicted_labls[i]==true_labls[i]:\n",
        "      acc_ct+=1\n",
        "  return acc_ct/ct"
      ],
      "metadata": {
        "colab": {
          "base_uri": "https://localhost:8080/"
        },
        "id": "Dd-zrWZ6JVRr",
        "outputId": "ced345ef-3daf-4053-b6ef-874fb4dd9b29"
      },
      "execution_count": 19,
      "outputs": [
        {
          "output_type": "stream",
          "name": "stdout",
          "text": [
            "   petal length (cm)  petal width (cm)  target\n",
            "0                1.4               0.2       0\n",
            "1                1.4               0.2       0\n",
            "2                1.3               0.2       0\n",
            "3                1.5               0.2       0\n",
            "4                1.4               0.2       0\n",
            "(100, 3)\n",
            "[1.7 0.4]\n",
            "(80, 2)\n",
            "<class 'numpy.ndarray'>\n",
            "[-0.99028988 -0.73427302]\n",
            "(80, 3)\n"
          ]
        }
      ]
    },
    {
      "cell_type": "code",
      "source": [
        "X_te=scaler.fit_transform(X_te)\n",
        "\n",
        "X_te=np.hstack([np.ones((X_te.shape[0],1)),X_te])"
      ],
      "metadata": {
        "id": "defn5Y25Xhli"
      },
      "execution_count": 20,
      "outputs": []
    },
    {
      "cell_type": "code",
      "source": [
        "weights=learn(X_t,y_t)\n",
        "train_predictions=prediction(X_t,weights)\n",
        "\n",
        "test_predictions=prediction(X_te,weights)\n",
        "train_acc=accuracy_finder(y_t,train_predictions)\n",
        "test_acc=accuracy_finder(y_te,test_predictions)"
      ],
      "metadata": {
        "colab": {
          "base_uri": "https://localhost:8080/"
        },
        "id": "88TLjyqzjM80",
        "outputId": "3526ed83-e1f1-4dea-993e-6d706bfc4c25"
      },
      "execution_count": 21,
      "outputs": [
        {
          "output_type": "stream",
          "name": "stdout",
          "text": [
            "[1.         1.13555602 0.89744481]\n",
            "[0.54302405 0.99977681 0.38926677]\n"
          ]
        }
      ]
    },
    {
      "cell_type": "code",
      "source": [
        "print(train_acc)\n",
        "print(test_acc)"
      ],
      "metadata": {
        "colab": {
          "base_uri": "https://localhost:8080/"
        },
        "id": "KuHxtJKRW955",
        "outputId": "df1b6e5c-0956-4a01-e22f-5305229875f8"
      },
      "execution_count": 22,
      "outputs": [
        {
          "output_type": "stream",
          "name": "stdout",
          "text": [
            "1.0\n",
            "1.0\n"
          ]
        }
      ]
    }
  ]
}