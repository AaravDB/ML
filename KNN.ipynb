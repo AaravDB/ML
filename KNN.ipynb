{
  "nbformat": 4,
  "nbformat_minor": 0,
  "metadata": {
    "colab": {
      "provenance": [],
      "authorship_tag": "ABX9TyN7QqE/wFN4yQ5C/+y4yhDZ",
      "include_colab_link": true
    },
    "kernelspec": {
      "name": "python3",
      "display_name": "Python 3"
    },
    "language_info": {
      "name": "python"
    }
  },
  "cells": [
    {
      "cell_type": "markdown",
      "metadata": {
        "id": "view-in-github",
        "colab_type": "text"
      },
      "source": [
        "<a href=\"https://colab.research.google.com/github/AaravDB/ML/blob/testing/KNN.ipynb\" target=\"_parent\"><img src=\"https://colab.research.google.com/assets/colab-badge.svg\" alt=\"Open In Colab\"/></a>"
      ]
    },
    {
      "cell_type": "markdown",
      "source": [
        "In this assignment, we will implement K-nearest neighbour for Handwritten Digit Classification problem. For handwritten digit classification problem, we shall use a small subset of MNIST Dataset."
      ],
      "metadata": {
        "id": "fnn32MUHPS5f"
      }
    },
    {
      "cell_type": "code",
      "source": [
        "import numpy as np"
      ],
      "metadata": {
        "id": "PQSoaNiJPRLN"
      },
      "execution_count": 11,
      "outputs": []
    },
    {
      "cell_type": "code",
      "execution_count": 12,
      "metadata": {
        "id": "umTlagLhO_su"
      },
      "outputs": [],
      "source": [
        "def distance_finder(x,y,metric):\n",
        "  if metric=='manhattan':\n",
        "    return np.sum(np.abs(np.subtract(x,y)))\n",
        "  elif metric=='euclidean':\n",
        "    a=np.square(np.subtract(x,y))\n",
        "    b=np.sum(a)#debugging statements\n",
        "    c=np.sqrt(b)#debugging statements\n",
        "    return c\n",
        "  else:\n",
        "    return np.zeros(len(x))\n"
      ]
    },
    {
      "cell_type": "code",
      "source": [
        "a=np.array([1,2,3,4,5,6,7,8,9])\n",
        "b=np.array([1,4,3,5,5,7,7,9,9])\n",
        "print(distance_finder(a,b,'manhattan'))\n",
        "print(distance_finder(a,b,'euclidean'))"
      ],
      "metadata": {
        "colab": {
          "base_uri": "https://localhost:8080/"
        },
        "id": "2s273OfjQUI-",
        "outputId": "41d6ff2f-a642-4a34-80cb-934b56f4d631"
      },
      "execution_count": 13,
      "outputs": [
        {
          "output_type": "stream",
          "name": "stdout",
          "text": [
            "5\n",
            "2.6457513110645907\n"
          ]
        }
      ]
    },
    {
      "cell_type": "code",
      "source": [
        "print(np.sqrt(5))#part of debugging"
      ],
      "metadata": {
        "colab": {
          "base_uri": "https://localhost:8080/"
        },
        "id": "y0Jj78F_RL5L",
        "outputId": "5aa5e899-7b8c-4ee3-ce44-785c20068c97"
      },
      "execution_count": 14,
      "outputs": [
        {
          "output_type": "stream",
          "name": "stdout",
          "text": [
            "2.23606797749979\n"
          ]
        }
      ]
    },
    {
      "cell_type": "code",
      "source": [
        "a=np.array([])\n",
        "print(a,type(a))\n",
        "print(a.shape)\n",
        "a=np.insert(a,0,6)\n"
      ],
      "metadata": {
        "colab": {
          "base_uri": "https://localhost:8080/"
        },
        "id": "upUVIHpZU1Yz",
        "outputId": "4ad455a0-e34a-49e1-fbb1-f8aeaa176e92"
      },
      "execution_count": 15,
      "outputs": [
        {
          "output_type": "stream",
          "name": "stdout",
          "text": [
            "[] <class 'numpy.ndarray'>\n",
            "(0,)\n"
          ]
        }
      ]
    },
    {
      "cell_type": "code",
      "source": [
        "def sorted_indices(distance_array):\n",
        "  sorted_indices=distance_array.argsort()\n",
        "  return sorted_indices\n",
        "a=np.array([5,3,7,9,1,4,2])#supposed distance array\n",
        "b=sorted_indices(a)#indices sorted by distance\n",
        "print(b)"
      ],
      "metadata": {
        "colab": {
          "base_uri": "https://localhost:8080/"
        },
        "id": "suqFJhK1SI54",
        "outputId": "cd403ced-7974-4674-ea79-161965a504ec"
      },
      "execution_count": 16,
      "outputs": [
        {
          "output_type": "stream",
          "name": "stdout",
          "text": [
            "[4 6 1 5 0 2 3]\n"
          ]
        }
      ]
    },
    {
      "cell_type": "code",
      "source": [
        "def label_count(k,sorted_indice_array,labels):\n",
        "  count=np.zeros(10,dtype=np.int64)#to store count of each digit(digit classification problem)\n",
        "  for i in range(k):#the closest k will have a say in what digit the test point maybe\n",
        "    indx=sorted_indice_array[i]#index of (i+1)th closest point(excluding itself as test point is not in training point)\n",
        "    lbl=labels[indx]#label of the (i+1)th closest point,which has a say in the class of the test point and thus is extracted for use in prediction\n",
        "    count[lbl]+=1\n",
        "  return count\n",
        "labels_supp=[1,2,3,4,5,6,7]#labels of the points\n",
        "print(a)\n",
        "print(b)\n",
        "label_counts=label_count(3,b,labels_supp)\n",
        "print(label_counts)"
      ],
      "metadata": {
        "colab": {
          "base_uri": "https://localhost:8080/"
        },
        "id": "zmEUt-Y_XAhK",
        "outputId": "db487450-ebcd-4ce1-f0a4-1f407020d983"
      },
      "execution_count": 17,
      "outputs": [
        {
          "output_type": "stream",
          "name": "stdout",
          "text": [
            "[5 3 7 9 1 4 2]\n",
            "[4 6 1 5 0 2 3]\n",
            "[0 0 1 0 0 1 0 1 0 0]\n"
          ]
        }
      ]
    },
    {
      "cell_type": "code",
      "source": [
        "def classifier(label_count):\n",
        "  maxele=np.max(label_count)\n",
        "  maxin=0\n",
        "  for i in range(10):\n",
        "    if label_count[i]==maxele:\n",
        "      maxind=i\n",
        "      return i #handles tie braking as well,by being biased to smaller digit,just cause!\n",
        "maxind=classifier(label_counts)\n",
        "print(maxind)"
      ],
      "metadata": {
        "colab": {
          "base_uri": "https://localhost:8080/"
        },
        "id": "9nYMATPOu-8_",
        "outputId": "1ebd102a-b634-4711-ffc5-9201db3c8b9d"
      },
      "execution_count": 18,
      "outputs": [
        {
          "output_type": "stream",
          "name": "stdout",
          "text": [
            "2\n"
          ]
        }
      ]
    },
    {
      "cell_type": "markdown",
      "source": [
        "Now begins the part of putting the functions into action using the dataset\n"
      ],
      "metadata": {
        "id": "M3mcnE2EyHVx"
      }
    },
    {
      "cell_type": "code",
      "source": [
        "import pandas as pd\n",
        "from sklearn.model_selection import train_test_split"
      ],
      "metadata": {
        "id": "96JHkinRyHJv"
      },
      "execution_count": 19,
      "outputs": []
    },
    {
      "cell_type": "code",
      "source": [
        "def dataset_splitter(filename,label_column_name):\n",
        "  dat=pd.read_csv(filename)\n",
        "  y=np.array(dat[label_column_name])\n",
        "  a=y.shape#a is 1 because its a single column,b depends on sample size\n",
        "  tempdat=dat.drop(label_column_name,axis=1)\n",
        "  X=np.array(tempdat)\n",
        "  X=X/255.0\n",
        "  return train_test_split(X,y,train_size=0.8,random_state=42)\n",
        "X_t,X_te,y_t,y_te=dataset_splitter('mnist_student.csv','label')"
      ],
      "metadata": {
        "id": "-eeQMvVTI63f"
      },
      "execution_count": 20,
      "outputs": []
    },
    {
      "cell_type": "code",
      "source": [
        "def predict(X_train,X_test,y_train):\n",
        "  y_test_predicte=[]\n",
        "  for testpt in X_test:\n",
        "    distarray=[]\n",
        "    for trainpt in X_train:\n",
        "      dist=distance_finder(testpt,trainpt,'euclidean')\n",
        "      distarray.append(dist)\n",
        "    distnparr=np.array(distarray)\n",
        "    sortd_indic=sorted_indices(distnparr)\n",
        "    label_ct=label_count(3,sortd_indic,y_train)\n",
        "    predicted_label=classifier(label_ct)\n",
        "    y_test_predicte.append(predicted_label)\n",
        "  predicted_labels=np.array(y_test_predicte)\n",
        "  return predicted_labels"
      ],
      "metadata": {
        "id": "TY4bD1B4DnD7"
      },
      "execution_count": 21,
      "outputs": []
    },
    {
      "cell_type": "code",
      "source": [
        "def accuracy_finder(true_labls,predicted_labls):\n",
        "  acc_ct=0\n",
        "  ct=0\n",
        "  for i in range(len(true_labls)):\n",
        "    ct+=1\n",
        "    if predicted_labls[i]==true_labls[i]:\n",
        "      acc_ct+=1\n",
        "  return acc_ct/ct\n"
      ],
      "metadata": {
        "id": "LBrhA15XHCA5"
      },
      "execution_count": 22,
      "outputs": []
    },
    {
      "cell_type": "markdown",
      "source": [
        "Finally passing the actual dataset"
      ],
      "metadata": {
        "id": "DuSB-M5dMr1w"
      }
    },
    {
      "cell_type": "code",
      "source": [
        "xt,xte,yt,yte=dataset_splitter('mnist_student.csv','label')\n",
        "pred=predict(xt,xte,yt)#predictions\n",
        "tr_lbl=np.array(yte)#need it in numpy format\n",
        "print(accuracy_finder(tr_lbl,pred))\n",
        "\n"
      ],
      "metadata": {
        "colab": {
          "base_uri": "https://localhost:8080/"
        },
        "id": "R17jtIBkMraX",
        "outputId": "7f056f97-f6ef-470d-ef8b-a7b3cfd5dc41"
      },
      "execution_count": 23,
      "outputs": [
        {
          "output_type": "stream",
          "name": "stdout",
          "text": [
            "0.865\n"
          ]
        }
      ]
    }
  ]
}